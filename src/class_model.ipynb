version https://git-lfs.github.com/spec/v1
oid sha256:52fbf1adb978a6eb6bc78cecde57bd91742973bc16fc86d77b94db34dcd51e72
size 16498628
